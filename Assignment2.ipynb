{
 "cells": [
  {
   "cell_type": "markdown",
   "metadata": {},
   "source": [
    "Task 1\n",
    "\n",
    "1.1 \n",
    "\n",
    "Write a Python Program to implement your own myreduce() function which works exactly like Python's built-in function reduce() "
   ]
  },
  {
   "cell_type": "code",
   "execution_count": 128,
   "metadata": {},
   "outputs": [],
   "source": [
    "def myReduce(func, iterable):\n",
    "    sum = 0\n",
    "    for i in iterable:\n",
    "        sum = func(sum,i)  \n",
    "    return sum        "
   ]
  },
  {
   "cell_type": "code",
   "execution_count": 129,
   "metadata": {},
   "outputs": [
    {
     "data": {
      "text/plain": [
       "51"
      ]
     },
     "execution_count": 129,
     "metadata": {},
     "output_type": "execute_result"
    }
   ],
   "source": [
    "l = [4,5,6,7,8,9,12]\n",
    "myReduce(lambda a,b:a+b,l)"
   ]
  },
  {
   "cell_type": "markdown",
   "metadata": {},
   "source": [
    "1.2 \n",
    "\n",
    "Write a Python program to implement your own myfilter() function which works exactly like Python's built-in function filter() "
   ]
  },
  {
   "cell_type": "code",
   "execution_count": 130,
   "metadata": {},
   "outputs": [],
   "source": [
    "def myFilter(func, iterable):\n",
    "    for i in iterable:\n",
    "        if(func(i) == True):\n",
    "            yield i  "
   ]
  },
  {
   "cell_type": "code",
   "execution_count": 131,
   "metadata": {},
   "outputs": [
    {
     "data": {
      "text/plain": [
       "[4, 6, 8, 12]"
      ]
     },
     "execution_count": 131,
     "metadata": {},
     "output_type": "execute_result"
    }
   ],
   "source": [
    "list(myFilter(lambda x: x%2 == 0, l))"
   ]
  },
  {
   "cell_type": "markdown",
   "metadata": {},
   "source": [
    "2. Implement List comprehensions to produce the following lists. \n",
    " \n",
    "\n",
    "['A', 'C', 'A', 'D', 'G', 'I', ’L’, ‘ D’] \n",
    " \n",
    "['x', 'xx', 'xxx', 'xxxx', 'y', 'yy', 'yyy', 'yyyy', 'z', 'zz', 'zzz', 'zzzz'] \n",
    " \n",
    "['x', 'y', 'z', 'xx', 'yy', 'zz', 'xx', 'yy', 'zz', 'xxxx', 'yyyy', 'zzzz'] \n",
    "\n",
    "[[2], [3], [4], [3], [4], [5], [4], [5], [6]] \n",
    " \n",
    "[[2, 3, 4, 5], [3, 4, 5, 6], [4, 5, 6, 7], [5, 6, 7, 8]] \n",
    " \n",
    "[(1, 1), (2, 1), (3, 1), (1, 2), (2, 2), (3, 2), (1, 3), (2, 3), (3, 3)] \n",
    " "
   ]
  },
  {
   "cell_type": "code",
   "execution_count": 46,
   "metadata": {},
   "outputs": [
    {
     "name": "stdout",
     "output_type": "stream",
     "text": [
      "Input String is :  ACADGILD\n",
      "Output List is :  ['A', 'C', 'A', 'D', 'G', 'I', 'L', 'D']\n"
     ]
    }
   ],
   "source": [
    "s1 = 'ACADGILD'\n",
    "print('Input String is : ',s1)\n",
    "m1 = [x for x in s1]\n",
    "print('Output List is : ',m1)"
   ]
  },
  {
   "cell_type": "code",
   "execution_count": 45,
   "metadata": {},
   "outputs": [
    {
     "name": "stdout",
     "output_type": "stream",
     "text": [
      "Input List is :  ['x', 'y', 'z']\n",
      "Output List is :  ['x', 'xx', 'xxx', 'xxxx', 'y', 'yy', 'yyy', 'yyyy', 'z', 'zz', 'zzz', 'zzzz']\n"
     ]
    }
   ],
   "source": [
    "s2 = ['x','y','z']\n",
    "print('Input List is : ',s2)\n",
    "m2 = [i*j for i in s2 for j in range(1,5)]\n",
    "print('Output List is : ',m2)"
   ]
  },
  {
   "cell_type": "code",
   "execution_count": 44,
   "metadata": {},
   "outputs": [
    {
     "name": "stdout",
     "output_type": "stream",
     "text": [
      "Input List is :  ['x', 'y', 'z']\n",
      "Output List is :  ['x', 'y', 'z', 'xx', 'yy', 'zz', 'xxx', 'yyy', 'zzz', 'xxxx', 'yyyy', 'zzzz']\n"
     ]
    }
   ],
   "source": [
    "s3 = ['x','y','z']\n",
    "print('Input List is : ',s3)\n",
    "m3 = [i*j for j in range(1,5) for i in s3]\n",
    "print('Output List is : ',m3)"
   ]
  },
  {
   "cell_type": "code",
   "execution_count": 42,
   "metadata": {},
   "outputs": [
    {
     "name": "stdout",
     "output_type": "stream",
     "text": [
      "Input List is :  [2, 3, 4]\n",
      "Output List is :  [[2], [3], [4], [3], [4], [5], [4], [5], [6]]\n"
     ]
    }
   ],
   "source": [
    "s4 = [2,3,4]\n",
    "print('Input List is : ',s4)\n",
    "m4 = [[i+j] for i in s4 for j in range(3)]\n",
    "print('Output List is : ',m4)"
   ]
  },
  {
   "cell_type": "code",
   "execution_count": 41,
   "metadata": {},
   "outputs": [
    {
     "name": "stdout",
     "output_type": "stream",
     "text": [
      "Input List is :  [2, 3, 4, 5]\n",
      "Output List is :  [[2, 3, 4, 5], [3, 4, 5, 6], [4, 5, 6, 7], [5, 6, 7, 8]]\n"
     ]
    }
   ],
   "source": [
    "s5 = [2,3,4,5]\n",
    "print('Input List is : ',s5)\n",
    "m5 = [[i+j for j in range(4)] for i in s5]\n",
    "print('Output List is : ',m5)"
   ]
  },
  {
   "cell_type": "code",
   "execution_count": 40,
   "metadata": {},
   "outputs": [
    {
     "name": "stdout",
     "output_type": "stream",
     "text": [
      "Input List is :  [1, 2, 3]\n",
      "Output List is :  [(1, 1), (2, 1), (3, 1), (1, 2), (2, 2), (3, 2), (1, 3), (2, 3), (3, 3)]\n"
     ]
    }
   ],
   "source": [
    "s6 = [1,2,3]\n",
    "m6 = [(j,i) for i in s6 for j in s6]\n",
    "print('Input List is : ',s6)\n",
    "print('Output List is : ',m6)"
   ]
  },
  {
   "cell_type": "markdown",
   "metadata": {},
   "source": [
    "3.  \n",
    " \n",
    "Implement a function longestWord() that takes a list of words and returns the longest one"
   ]
  },
  {
   "cell_type": "code",
   "execution_count": 33,
   "metadata": {},
   "outputs": [],
   "source": [
    "def longestWord(l):\n",
    "    length = 0\n",
    "    lWord = ''\n",
    "    for i in l:\n",
    "        newLength = len(i)\n",
    "        if  newLength > length:\n",
    "            length = newLength\n",
    "            lWord = i\n",
    "    return lWord "
   ]
  },
  {
   "cell_type": "code",
   "execution_count": 34,
   "metadata": {},
   "outputs": [
    {
     "name": "stdout",
     "output_type": "stream",
     "text": [
      "Input string list is :  ['linux', 'windows', 'mackintosh']\n",
      "The Longest word in the List is :  mackintosh\n"
     ]
    }
   ],
   "source": [
    "l = ['linux', 'windows','mackintosh']\n",
    "print('Input string list is : ',l)\n",
    "word = longestWord(l1)\n",
    "print('The Longest word in the List is : ',word)"
   ]
  },
  {
   "cell_type": "markdown",
   "metadata": {},
   "source": [
    "Task 2\n",
    "\n",
    "1.1  \n",
    " \n",
    "Write a Python Program(with class concepts) to find the area of the triangle using the below formula. \n",
    " \n",
    "area = (s*(s-a)*(s-b)*(s-c)) ** 0.5 \n",
    " \n",
    "Function to take the length of the sides of triangle from user should be defined in the parent class and function to calculate the area should be defined in subclass. "
   ]
  },
  {
   "cell_type": "code",
   "execution_count": 7,
   "metadata": {},
   "outputs": [],
   "source": [
    "class Shape:\n",
    "    def __init__(self, shape, sides):\n",
    "        self.shape = shape\n",
    "        self.sides = sides\n",
    "    def enter_sides(self):\n",
    "        sides = []\n",
    "        for i in range(1,self.sides+1):\n",
    "            sides.append(float(input(\"Enter value for side\"+str(i)+\" of the \"+self.shape+\" : \")))\n",
    "        return sides "
   ]
  },
  {
   "cell_type": "code",
   "execution_count": 8,
   "metadata": {},
   "outputs": [],
   "source": [
    "class Triangle(Shape):\n",
    "    def __init__(self, *args):\n",
    "        super(Triangle,self).__init__(*args)\n",
    "    def calculateArea (self, side1, side2, side3):\n",
    "        sperimeter = (side1 + side2 + side3)/2\n",
    "        area = (sperimeter*(sperimeter-side1)*(sperimeter-side2)*(sperimeter-side3))**0.5\n",
    "        return area"
   ]
  },
  {
   "cell_type": "code",
   "execution_count": 9,
   "metadata": {},
   "outputs": [
    {
     "name": "stdout",
     "output_type": "stream",
     "text": [
      "Enter value for side1 of the Triangle : 3\n",
      "Enter value for side2 of the Triangle : 4\n",
      "Enter value for side3 of the Triangle : 5\n",
      "Area of the Triangle is : 6.0\n"
     ]
    }
   ],
   "source": [
    "t = Triangle('Triangle',3)\n",
    "sides = t.enter_sides()\n",
    "area = t.calculateArea(sides[0],sides[1],sides[2])\n",
    "print(\"Area of the Triangle is :\",area)"
   ]
  },
  {
   "cell_type": "markdown",
   "metadata": {},
   "source": [
    "1.2 \n",
    "\n",
    "Write a function filter_long_words() that takes a list of words and an integer n and returns the list of words that are longer than n. "
   ]
  },
  {
   "cell_type": "code",
   "execution_count": 27,
   "metadata": {},
   "outputs": [],
   "source": [
    "def filter_long_words(wList, wLength):\n",
    "    newlist = []\n",
    "    for i in wList:\n",
    "        if len(i) > wLength:\n",
    "            newlist.append(i)\n",
    "    return newlist                "
   ]
  },
  {
   "cell_type": "code",
   "execution_count": 30,
   "metadata": {},
   "outputs": [
    {
     "name": "stdout",
     "output_type": "stream",
     "text": [
      "Enter a length to filter : 5\n",
      "Input String List is :  ['linux', 'windows', 'mackintosh']\n",
      "Filtered List of words greater than length 5 is :  ['windows', 'mackintosh']\n"
     ]
    }
   ],
   "source": [
    "l1 = ['linux', 'windows','mackintosh']\n",
    "wLength = int(input('Enter a length to filter : '))\n",
    "print('Input String List is : ',l1)\n",
    "filterList = filter_long_words(l1, wLength)\n",
    "print('Filtered List of words greater than length '+str(wLength)+' is : ',filterList)"
   ]
  },
  {
   "cell_type": "markdown",
   "metadata": {},
   "source": [
    "2.1 \n",
    " \n",
    "Write a Python program using function concept that maps  list of words into a list of integers representing the lengths of the corresponding words."
   ]
  },
  {
   "cell_type": "code",
   "execution_count": 37,
   "metadata": {},
   "outputs": [
    {
     "name": "stdout",
     "output_type": "stream",
     "text": [
      "Input String List is :  ['linux', 'windows', 'mackintosh']\n",
      "List of Integers for the input list is : [5, 7, 10]\n"
     ]
    }
   ],
   "source": [
    "print('Input String List is : ',l1)\n",
    "intList = list(map(lambda x: len(x), l1))\n",
    "print('List of Integers for the input list is :',intList)"
   ]
  },
  {
   "cell_type": "markdown",
   "metadata": {},
   "source": [
    "2.2 \n",
    " \n",
    "Write a Python function which takes a character (i.e. a string of length 1) and returns True if it is a vowel, False otherwise."
   ]
  },
  {
   "cell_type": "code",
   "execution_count": 31,
   "metadata": {},
   "outputs": [],
   "source": [
    "def isVowel(c):\n",
    "    vowl = False\n",
    "    if len(c) > 1:\n",
    "        print(\"Error: More than one character\")\n",
    "        return -1\n",
    "    else:\n",
    "        if c.lower() in \"aeiou\":\n",
    "            vowl = True\n",
    "    return vowl"
   ]
  },
  {
   "cell_type": "code",
   "execution_count": 32,
   "metadata": {},
   "outputs": [
    {
     "name": "stdout",
     "output_type": "stream",
     "text": [
      "please enter a character :b\n",
      "Is the character a VOWEL? : False\n"
     ]
    }
   ],
   "source": [
    "c = input(\"please enter a character :\")\n",
    "print(\"Is the character a VOWEL? :\",isVowel(c))"
   ]
  },
  {
   "cell_type": "markdown",
   "metadata": {},
   "source": []
  }
 ],
 "metadata": {
  "kernelspec": {
   "display_name": "Python 3",
   "language": "python",
   "name": "python3"
  },
  "language_info": {
   "codemirror_mode": {
    "name": "ipython",
    "version": 3
   },
   "file_extension": ".py",
   "mimetype": "text/x-python",
   "name": "python",
   "nbconvert_exporter": "python",
   "pygments_lexer": "ipython3",
   "version": "3.7.3"
  }
 },
 "nbformat": 4,
 "nbformat_minor": 2
}
