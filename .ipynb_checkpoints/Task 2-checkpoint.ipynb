{
 "cells": [
  {
   "cell_type": "markdown",
   "metadata": {},
   "source": [
    "1. Write a program which accepts a sequence of comma-separated numbers from console and generate a list"
   ]
  },
  {
   "cell_type": "code",
   "execution_count": 1,
   "metadata": {},
   "outputs": [
    {
     "name": "stdout",
     "output_type": "stream",
     "text": [
      "please enter sequence of numbers separated by commas : 1,2,3,4,5\n",
      "1,2,3,4,5\n"
     ]
    }
   ],
   "source": [
    "# User input\n",
    "s = input(\"please enter sequence of numbers separated by commas : \")\n",
    "print(s)"
   ]
  },
  {
   "cell_type": "code",
   "execution_count": 2,
   "metadata": {},
   "outputs": [
    {
     "name": "stdout",
     "output_type": "stream",
     "text": [
      "List of Strings ['1', '2', '3', '4', '5']\n"
     ]
    }
   ],
   "source": [
    "# split string using a comma delimiter and saving as a list\n",
    "str_list = list(s.split(','))\n",
    "print('List of Strings', str_list)"
   ]
  },
  {
   "cell_type": "code",
   "execution_count": 3,
   "metadata": {},
   "outputs": [
    {
     "name": "stdout",
     "output_type": "stream",
     "text": [
      "List after typecast to Integers :  [1, 2, 3, 4, 5]\n"
     ]
    }
   ],
   "source": [
    "# Type case string list elements to integer and add to a new list\n",
    "int_list = [int(i) for i in str_list]\n",
    "print('List after typecast to Integers : ', int_list)"
   ]
  },
  {
   "cell_type": "markdown",
   "metadata": {},
   "source": [
    "2. Create the below pattern using nested for loop in Python.\n",
    "*\n",
    "* *\n",
    "* * *\n",
    "* * * *\n",
    "* * * * *\n",
    "* * * *\n",
    "* * *\n",
    "* *\n",
    "*"
   ]
  },
  {
   "cell_type": "code",
   "execution_count": 4,
   "metadata": {},
   "outputs": [
    {
     "name": "stdout",
     "output_type": "stream",
     "text": [
      "* \n",
      "* * \n",
      "* * * \n",
      "* * * * \n",
      "* * * * * \n",
      "* * * * \n",
      "* * * \n",
      "* * \n",
      "* \n"
     ]
    }
   ],
   "source": [
    "# nested loop to print * in increasing order\n",
    "for i in range(1,6):\n",
    "        for j in range(i):\n",
    "            print(\"*\",end=' ')\n",
    "        print()\n",
    "# nested loop to print * in decreasing order\n",
    "for i in range(4,0, -1):\n",
    "        for j in range(i):\n",
    "            print(\"*\",end=' ')\n",
    "        print()\n"
   ]
  },
  {
   "cell_type": "markdown",
   "metadata": {},
   "source": [
    "3. Write a Python program to reverse a word after accepting the input from the user.\n",
    "        Sample Output:\n",
    "        Input word: AcadGild\n",
    "        Output: dilGdacA"
   ]
  },
  {
   "cell_type": "code",
   "execution_count": 5,
   "metadata": {},
   "outputs": [
    {
     "name": "stdout",
     "output_type": "stream",
     "text": [
      "Please input a word : India\n",
      "Reverse of the word :  aidnI\n"
     ]
    }
   ],
   "source": [
    "# input word\n",
    "word = input('Please input a word : ')\n",
    "# reversing the word\n",
    "rWord = word[::-1]\n",
    "# desired output\n",
    "print('Reverse of the word : ', rWord)"
   ]
  },
  {
   "cell_type": "markdown",
   "metadata": {},
   "source": [
    "4. Write a Python Program to print the given string in the format specified in the sample output.\n",
    "\n",
    "WE, THE PEOPLE OF INDIA, having solemnly resolved to constitute India into a SOVEREIGN, SOCIALIST, SECULAR, DEMOCRATIC REPUBLIC and to secure to all\n",
    "its citizens\n",
    "\n",
    "Sample Output:\n",
    "\n",
    "WE, THE PEOPLE OF INDIA,\n",
    "    having solemnly resolved to constitute India into a SOVEREIGN, !\n",
    "        SOCIALIST, SECULAR, DEMOCRATIC REPUBLIC\n",
    "         and to secure to all its citizens"
   ]
  },
  {
   "cell_type": "code",
   "execution_count": 6,
   "metadata": {},
   "outputs": [
    {
     "name": "stdout",
     "output_type": "stream",
     "text": [
      "WE, THE PEOPLE OF INDIA, \n",
      "\thaving solemnly resolved to constitute India into a SOVEREIGN, !\n",
      "\t\tSOCIALIST, SECULAR, DEMOCRATIC REPUBLIC \n",
      "\t\t and to secure to all its citizens\n"
     ]
    }
   ],
   "source": [
    "#Input String\n",
    "s = \"WE, THE PEOPLE OF INDIA, having solemnly resolved to constitute India into a SOVEREIGN, SOCIALIST, SECULAR, DEMOCRATIC REPUBLIC and to secure to all its citizens\"\n",
    "# Find index of having\n",
    "indx1 = s.find(\"having\")\n",
    "# Insert newline and tab\n",
    "s = s[:indx1]+\"\\n\\t\"+s[indx1:]\n",
    "# Find index of SOCIALIST\n",
    "indx2 = s.find(\"SOCIALIST\")\n",
    "# Insert !, newline and double tab\n",
    "s = s[:indx2]+\"!\\n\\t\\t\"+s[indx2:]\n",
    "# Find index of and\n",
    "indx3 = s.find(\"and\")\n",
    "# Insert newline and double tab\n",
    "s = s[:indx3]+\"\\n\\t\\t \"+s[indx3:]\n",
    "\n",
    "#desired output\n",
    "print(s)\n"
   ]
  },
  {
   "cell_type": "code",
   "execution_count": null,
   "metadata": {},
   "outputs": [],
   "source": []
  },
  {
   "cell_type": "code",
   "execution_count": null,
   "metadata": {},
   "outputs": [],
   "source": []
  }
 ],
 "metadata": {
  "kernelspec": {
   "display_name": "Python 3",
   "language": "python",
   "name": "python3"
  },
  "language_info": {
   "codemirror_mode": {
    "name": "ipython",
    "version": 3
   },
   "file_extension": ".py",
   "mimetype": "text/x-python",
   "name": "python",
   "nbconvert_exporter": "python",
   "pygments_lexer": "ipython3",
   "version": "3.7.3"
  }
 },
 "nbformat": 4,
 "nbformat_minor": 2
}
